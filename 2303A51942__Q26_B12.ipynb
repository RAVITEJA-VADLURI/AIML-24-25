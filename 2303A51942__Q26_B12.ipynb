{
  "nbformat": 4,
  "nbformat_minor": 0,
  "metadata": {
    "colab": {
      "provenance": [],
      "authorship_tag": "ABX9TyNpoKl6481U1IV2EwbUgA05",
      "include_colab_link": true
    },
    "kernelspec": {
      "name": "python3",
      "display_name": "Python 3"
    },
    "language_info": {
      "name": "python"
    }
  },
  "cells": [
    {
      "cell_type": "markdown",
      "metadata": {
        "id": "view-in-github",
        "colab_type": "text"
      },
      "source": [
        "<a href=\"https://colab.research.google.com/github/RAVITEJA-VADLURI/AIML-24-25/blob/main/2303A51942__Q26_B12.ipynb\" target=\"_parent\"><img src=\"https://colab.research.google.com/assets/colab-badge.svg\" alt=\"Open In Colab\"/></a>"
      ]
    },
    {
      "cell_type": "code",
      "source": [
        "import pandas as pd\n",
        "\n",
        "# 1. Identify the top 5 material most used for garment making?\n",
        "\n",
        "data = {\n",
        "    'Material': ['null', 'microfiber', 'polyster', 'silk', 'chiffonfabric', 'null', 'cotton', 'polyster'],\n",
        "    'FabricType': ['chiffon', 'null', 'null', 'chiffon', 'chiffon', 'null', 'null', 'broadcloth'],\n",
        "    'Decoration': ['ruffles', 'ruffles', 'null', 'embroidary', 'bow', 'null', 'null', 'lace'],\n",
        "    'Pattern Type': ['animal', 'animal', 'print', 'print', 'dot', 'print', 'solid', 'null'],\n",
        "    'Recommendation': [1, 0, 0, 1, 0, 0, 0, 0]\n",
        "}\n",
        "\n",
        "df = pd.DataFrame(data)\n",
        "\n",
        "# Replace 'null' with NaN for proper handling (without inplace=True to avoid FutureWarning)\n",
        "df['Material'] = df['Material'].replace('null', pd.NA)\n",
        "\n",
        "# Drop rows with missing materials if required (optional)\n",
        "df = df.dropna(subset=['Material'])\n",
        "\n",
        "# Count occurrences of each material\n",
        "material_counts = df['Material'].value_counts()\n",
        "\n",
        "# Get the top 5 materials\n",
        "top_5_materials = material_counts.head(5)\n",
        "\n",
        "# Show only the output (top 5 materials)\n",
        "print(top_5_materials)\n"
      ],
      "metadata": {
        "id": "Tsjqxid9ERHO",
        "outputId": "68fe50be-663f-47a5-ffbe-056d2c28ef4b",
        "colab": {
          "base_uri": "https://localhost:8080/"
        }
      },
      "execution_count": null,
      "outputs": [
        {
          "output_type": "stream",
          "name": "stdout",
          "text": [
            "Material\n",
            "polyster         2\n",
            "microfiber       1\n",
            "silk             1\n",
            "chiffonfabric    1\n",
            "cotton           1\n",
            "Name: count, dtype: int64\n"
          ]
        }
      ]
    },
    {
      "cell_type": "code",
      "source": [
        "import pandas as pd\n",
        "#question 2. Identify the seasons with most garment usage\n",
        "\n",
        "# Step 1: Create the dataset (adding a 'Season' column)\n",
        "data = {\n",
        "    'Material': ['null', 'microfiber', 'polyster', 'silk', 'chiffonfabric', 'null', 'cotton', 'polyster'],\n",
        "    'FabricType': ['chiffon', 'null', 'null', 'chiffon', 'chiffon', 'null', 'null', 'broadcloth'],\n",
        "    'Decoration': ['ruffles', 'ruffles', 'null', 'embroidary', 'bow', 'null', 'null', 'lace'],\n",
        "    'Pattern Type': ['animal', 'animal', 'print', 'print', 'dot', 'print', 'solid', 'null'],\n",
        "    'Season': ['Summer', 'Winter', 'Summer', 'Spring', 'Autumn', 'Winter', 'Summer', 'Autumn'],  # Example seasons\n",
        "    'Recommendation': [1, 0, 0, 1, 0, 0, 0, 0]\n",
        "}\n",
        "\n",
        "df = pd.DataFrame(data)\n",
        "\n",
        "# Step 2: Replace 'null' with NaN for better handling of missing values\n",
        "df.replace('null', pd.NA, inplace=True)\n",
        "\n",
        "# Step 3: Count the occurrences of each season\n",
        "season_counts = df['Season'].value_counts()\n",
        "\n",
        "# Step 4: Display the season with the most garment usage\n",
        "most_used_season = season_counts.idxmax()\n",
        "most_used_count = season_counts.max()\n",
        "\n",
        "print(\"Season counts:\")\n",
        "print(season_counts)\n",
        "print(f\"\\nThe season with the most garment usage is '{most_used_season}' with {most_used_count} garments.\")\n"
      ],
      "metadata": {
        "colab": {
          "base_uri": "https://localhost:8080/"
        },
        "id": "zzWVHmd9EOeX",
        "outputId": "fb79e4a9-0492-4827-e337-0f6f76e83d29"
      },
      "execution_count": null,
      "outputs": [
        {
          "output_type": "stream",
          "name": "stdout",
          "text": [
            "Season counts:\n",
            "Season\n",
            "Summer    3\n",
            "Winter    2\n",
            "Autumn    2\n",
            "Spring    1\n",
            "Name: count, dtype: int64\n",
            "\n",
            "The season with the most garment usage is 'Summer' with 3 garments.\n"
          ]
        }
      ]
    },
    {
      "cell_type": "code",
      "source": [
        "import pandas as pd\n",
        "#3. Find the max and min size of garments made for customers.\n",
        "# Step 1: Create the dataset with a 'Size' column\n",
        "data = {\n",
        "    'Material': ['null', 'microfiber', 'polyster', 'silk', 'chiffonfabric', 'null', 'cotton', 'polyster'],\n",
        "    'FabricType': ['chiffon', 'null', 'null', 'chiffon', 'chiffon', 'null', 'null', 'broadcloth'],\n",
        "    'Decoration': ['ruffles', 'ruffles', 'null', 'embroidary', 'bow', 'null', 'null', 'lace'],\n",
        "    'Pattern Type': ['animal', 'animal', 'print', 'print', 'dot', 'print', 'solid', 'null'],\n",
        "    'Season': ['Summer', 'Winter', 'Summer', 'Spring', 'Autumn', 'Winter', 'Summer', 'Autumn'],\n",
        "    'Size': [36, 38, 40, 42, 44, 38, 36, 42],  # Numeric sizes for garments\n",
        "    'Recommendation': [1, 0, 0, 1, 0, 0, 0, 0]\n",
        "}\n",
        "\n",
        "df = pd.DataFrame(data)\n",
        "\n",
        "# Step 2: Replace 'null' with NaN for better handling of missing values\n",
        "df.replace('null', pd.NA, inplace=True)\n",
        "\n",
        "# Step 3: Calculate the maximum and minimum sizes\n",
        "max_size = df['Size'].max()\n",
        "min_size = df['Size'].min()\n",
        "\n",
        "# Step 4: Display the results\n",
        "print(f\"The maximum garment size is: {max_size}\")\n",
        "print(f\"The minimum garment size is: {min_size}\")\n"
      ],
      "metadata": {
        "colab": {
          "base_uri": "https://localhost:8080/"
        },
        "id": "m4h2qqqYEZOE",
        "outputId": "f037dec4-c210-4962-f533-6f797583f161"
      },
      "execution_count": null,
      "outputs": [
        {
          "output_type": "stream",
          "name": "stdout",
          "text": [
            "The maximum garment size is: 44\n",
            "The minimum garment size is: 36\n"
          ]
        }
      ]
    },
    {
      "cell_type": "code",
      "source": [
        "import pandas as pd\n",
        "#4. Name the top 5 decoration, fabrictype used to make garments\n",
        "# Step 1: Create the dataset\n",
        "data = {\n",
        "    'Material': ['null', 'microfiber', 'polyster', 'silk', 'chiffonfabric', 'null', 'cotton', 'polyster'],\n",
        "    'FabricType': ['chiffon', 'null', 'null', 'chiffon', 'chiffon', 'null', 'null', 'broadcloth'],\n",
        "    'Decoration': ['ruffles', 'ruffles', 'null', 'embroidary', 'bow', 'null', 'null', 'lace'],\n",
        "    'Pattern Type': ['animal', 'animal', 'print', 'print', 'dot', 'print', 'solid', 'null'],\n",
        "    'Season': ['Summer', 'Winter', 'Summer', 'Spring', 'Autumn', 'Winter', 'Summer', 'Autumn'],\n",
        "    'Size': [36, 38, 40, 42, 44, 38, 36, 42],\n",
        "    'Recommendation': [1, 0, 0, 1, 0, 0, 0, 0]\n",
        "}\n",
        "\n",
        "df = pd.DataFrame(data)\n",
        "\n",
        "# Step 2: Replace 'null' with NaN for better handling of missing values\n",
        "df.replace('null', pd.NA, inplace=True)\n",
        "\n",
        "# Step 3: Count the frequency of each Decoration and FabricType\n",
        "top_decorations = df['Decoration'].value_counts().head(5)\n",
        "top_fabric_types = df['FabricType'].value_counts().head(5)\n",
        "\n",
        "# Step 4: Display the results\n",
        "print(\"Top 5 Decorations used to make garments:\")\n",
        "print(top_decorations)\n",
        "\n",
        "print(\"\\nTop 5 Fabric Types used to make garments:\")\n",
        "print(top_fabric_types)\n"
      ],
      "metadata": {
        "colab": {
          "base_uri": "https://localhost:8080/"
        },
        "id": "70E0q1lkFA3-",
        "outputId": "f800da29-586c-46ec-e67b-4feb6ad39ebc"
      },
      "execution_count": null,
      "outputs": [
        {
          "output_type": "stream",
          "name": "stdout",
          "text": [
            "Top 5 Decorations used to make garments:\n",
            "Decoration\n",
            "ruffles       2\n",
            "embroidary    1\n",
            "bow           1\n",
            "lace          1\n",
            "Name: count, dtype: int64\n",
            "\n",
            "Top 5 Fabric Types used to make garments:\n",
            "FabricType\n",
            "chiffon       3\n",
            "broadcloth    1\n",
            "Name: count, dtype: int64\n"
          ]
        }
      ]
    },
    {
      "cell_type": "code",
      "source": [
        "import pandas as pd\n",
        "#. 5 Identify the costliest stylish garment prepared for customers.\n",
        "# Step 1: Create the dataset with the Cost column\n",
        "data = {\n",
        "    'Material': ['null', 'microfiber', 'polyster', 'silk', 'chiffonfabric', 'null', 'cotton', 'polyster'],\n",
        "    'FabricType': ['chiffon', 'null', 'null', 'chiffon', 'chiffon', 'null', 'null', 'broadcloth'],\n",
        "    'Decoration': ['ruffles', 'ruffles', 'null', 'embroidary', 'bow', 'null', 'null', 'lace'],\n",
        "    'Pattern Type': ['animal', 'animal', 'print', 'print', 'dot', 'print', 'solid', 'null'],\n",
        "    'Season': ['Summer', 'Winter', 'Summer', 'Spring', 'Autumn', 'Winter', 'Summer', 'Autumn'],\n",
        "    'Size': [36, 38, 40, 42, 44, 38, 36, 42],\n",
        "    'Recommendation': [1, 0, 0, 1, 0, 0, 0, 0],\n",
        "    'Cost': [1200, 2500, 1800, 3000, 2200, 1500, 1100, 2900]  # Example costs\n",
        "}\n",
        "\n",
        "df = pd.DataFrame(data)\n",
        "\n",
        "# Step 2: Replace 'null' with NaN for better handling of missing values\n",
        "df.replace('null', pd.NA, inplace=True)\n",
        "\n",
        "# Step 3: Find the costliest garment\n",
        "costliest_garment = df.loc[df['Cost'].idxmax()]\n",
        "\n",
        "# Step 4: Display the result\n",
        "print(\"Details of the costliest stylish garment:\")\n",
        "print(costliest_garment)\n"
      ],
      "metadata": {
        "colab": {
          "base_uri": "https://localhost:8080/"
        },
        "id": "58SjSIAZFbJR",
        "outputId": "62da8663-acb3-42e2-a410-4430341c16dd"
      },
      "execution_count": null,
      "outputs": [
        {
          "output_type": "stream",
          "name": "stdout",
          "text": [
            "Details of the costliest stylish garment:\n",
            "Material                silk\n",
            "FabricType           chiffon\n",
            "Decoration        embroidary\n",
            "Pattern Type           print\n",
            "Season                Spring\n",
            "Size                      42\n",
            "Recommendation             1\n",
            "Cost                    3000\n",
            "Name: 3, dtype: object\n"
          ]
        }
      ]
    },
    {
      "cell_type": "code",
      "source": [
        "#6. Apply either Classification Model or Clustering Model to evaluate the dataset\n",
        "import pandas as pd\n",
        "from sklearn.cluster import KMeans\n",
        "from sklearn.preprocessing import StandardScaler\n",
        "import matplotlib.pyplot as plt\n",
        "\n",
        "# Sample dataset (replace this with actual data if available)\n",
        "data = pd.DataFrame({\n",
        "    'Price': [500, 600, 700, 800, 900, 1000],\n",
        "    'Size': [30, 32, 34, 36, 38, 40],\n",
        "    'Customer_Age': [25, 28, 30, 35, 40, 45]\n",
        "})\n",
        "\n",
        "# Select numeric columns for clustering\n",
        "numeric_columns = data.select_dtypes(include=['float64', 'int64']).columns\n",
        "X = data[numeric_columns]\n",
        "\n",
        "# Standardize the data\n",
        "scaler = StandardScaler()\n",
        "X_scaled = scaler.fit_transform(X)\n",
        "\n",
        "# Determine the optimal number of clusters using the Elbow Method\n",
        "inertia = []\n",
        "K = range(1, min(len(data), 10))  # Limit clusters to the number of samples\n",
        "for k in K:\n",
        "    kmeans = KMeans(n_clusters=k, random_state=42)\n",
        "    kmeans.fit(X_scaled)\n",
        "    inertia.append(kmeans.inertia_)\n",
        "\n",
        "# Plot the Elbow Curve\n",
        "plt.figure(figsize=(8, 5))\n",
        "plt.plot(K, inertia, 'bx-')\n",
        "plt.xlabel('Number of Clusters')\n",
        "plt.ylabel('Inertia')\n",
        "plt.title('Elbow Method to Find Optimal Clusters')\n",
        "plt.show()\n",
        "\n",
        "# Apply K-Means clustering with the optimal number of clusters (e.g., 2)\n",
        "optimal_clusters = 2  # Set this to the optimal number after the elbow curve\n",
        "kmeans = KMeans(n_clusters=optimal_clusters, random_state=42)\n",
        "data['Cluster'] = kmeans.fit_predict(X_scaled)\n",
        "\n",
        "# Display clustered data\n",
        "print(data)\n"
      ],
      "metadata": {
        "colab": {
          "base_uri": "https://localhost:8080/",
          "height": 615
        },
        "id": "WAGrdISaG9Un",
        "outputId": "fb6a3285-6ee7-418c-9dd9-9a3ef3a600e7"
      },
      "execution_count": null,
      "outputs": [
        {
          "output_type": "display_data",
          "data": {
            "text/plain": [
              "<Figure size 800x500 with 1 Axes>"
            ],
            "image/png": "[encoded data removed]"
          },
          "metadata": {}
        },
        {
          "output_type": "stream",
          "name": "stdout",
          "text": [
            "   Price  Size  Customer_Age  Cluster\n",
            "0    500    30            25        0\n",
            "1    600    32            28        0\n",
            "2    700    34            30        0\n",
            "3    800    36            35        0\n",
            "4    900    38            40        1\n",
            "5   1000    40            45        1\n"
          ]
        }
      ]
    }
  ]
}